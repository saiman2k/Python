{
 "cells": [
  {
   "cell_type": "code",
   "execution_count": 1,
   "metadata": {},
   "outputs": [
    {
     "name": "stdout",
     "output_type": "stream",
     "text": [
      "This is an even number\n",
      "This is an odd number\n",
      "2\n",
      "This is an even number\n",
      "1\n",
      "This is an odd number\n",
      "2\n",
      "This is an even number\n",
      "3\n",
      "\n",
      "\n",
      "second snipet:\n",
      "\n",
      "\n",
      "120\n"
     ]
    }
   ],
   "source": [
    "#basic generator function\n",
    "def igen():\n",
    "    n=1\n",
    "    if n%2==0:\n",
    "        print('This is an odd number')\n",
    "    else:\n",
    "        print('This is an even number')\n",
    "    yield n\n",
    "    n=n+1\n",
    "    if n%2==0:\n",
    "        print('This is an odd number')\n",
    "    else:\n",
    "        print('This is an even number')\n",
    "    yield n\n",
    "    n+=1\n",
    "    if n%2==0:\n",
    "        print('This is an odd number')\n",
    "    else:\n",
    "        print('This is an even number')\n",
    "    yield n\n",
    "a= igen()\n",
    "next(a)\n",
    "print(next(a))\n",
    "#using a for loop\n",
    "for i in igen():\n",
    "    print(i)\n",
    "print(\"\\n\")\n",
    "print(\"second snipet:\")\n",
    "print(\"\\n\")\n",
    "#to find the factorial of the given number\n",
    "def fact(n):\n",
    "    a=1\n",
    "    c=1\n",
    "    while c<=n:\n",
    "        if c==n:\n",
    "            yield a\n",
    "        a=a*c\n",
    "        c=c+1\n",
    "b=fact(5)\n",
    "for i in fact(6):\n",
    "    print(i)"
   ]
  }
 ],
 "metadata": {
  "kernelspec": {
   "display_name": "Python 3",
   "language": "python",
   "name": "python3"
  },
  "language_info": {
   "codemirror_mode": {
    "name": "ipython",
    "version": 3
   },
   "file_extension": ".py",
   "mimetype": "text/x-python",
   "name": "python",
   "nbconvert_exporter": "python",
   "pygments_lexer": "ipython3",
   "version": "3.8.3"
  }
 },
 "nbformat": 4,
 "nbformat_minor": 4
}
