{
 "cells": [
  {
   "cell_type": "code",
   "execution_count": 15,
   "metadata": {},
   "outputs": [
    {
     "name": "stdout",
     "output_type": "stream",
     "text": [
      "     Item  Quantity(kg)  Cost\n",
      "0   apple             1   100\n",
      "1  banana             1    50\n",
      "     Item  Quantity(kg)  Cost\n",
      "0   apple             1   100\n",
      "1  banana             1    50\n",
      "0    100\n",
      "1     50\n",
      "Name: Cost, dtype: int64\n",
      "   Cost\n",
      "0   100\n",
      "1    50\n"
     ]
    }
   ],
   "source": [
    "#reading and writing in a csv file using pandas library\n",
    "import pandas as pd\n",
    "df = pd.read_csv ('commodities.csv',index_col=0)\n",
    "print (df)\n",
    "#now writing new data to the csv file(old contents will be deleted)\n",
    "df = pd.DataFrame([['apple', 1, 100], ['banana', 1, 50]], columns = ['Item', 'Quantity(kg)','Cost'])\n",
    "df.to_csv('commodities.csv')\n",
    "print(df)\n",
    "# Print out cost column as Pandas Series(new data)\n",
    "print(df['Cost'])\n",
    "# Print out cost column as Pandas DataFrame(new data)\n",
    "print(df[['Cost']])\n"
   ]
  }
 ],
 "metadata": {
  "kernelspec": {
   "display_name": "Python 3",
   "language": "python",
   "name": "python3"
  },
  "language_info": {
   "codemirror_mode": {
    "name": "ipython",
    "version": 3
   },
   "file_extension": ".py",
   "mimetype": "text/x-python",
   "name": "python",
   "nbconvert_exporter": "python",
   "pygments_lexer": "ipython3",
   "version": "3.8.3"
  }
 },
 "nbformat": 4,
 "nbformat_minor": 4
}
