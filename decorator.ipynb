{
 "cells": [
  {
   "cell_type": "code",
   "execution_count": 1,
   "metadata": {},
   "outputs": [
    {
     "name": "stdout",
     "output_type": "stream",
     "text": [
      "Innerfuntion call\n",
      "inbetween\n",
      "Last function call\n"
     ]
    }
   ],
   "source": [
    "#decorator\n",
    "def dec(b):\n",
    "    def inner():\n",
    "        print('Innerfuntion call')\n",
    "        b()\n",
    "        print('Last function call')\n",
    "    return inner\n",
    "def fun():\n",
    "    print('inbetween')\n",
    "fun=dec(fun)\n",
    "fun()"
   ]
  },
  {
   "cell_type": "code",
   "execution_count": null,
   "metadata": {},
   "outputs": [],
   "source": []
  }
 ],
 "metadata": {
  "kernelspec": {
   "display_name": "Python 3",
   "language": "python",
   "name": "python3"
  },
  "language_info": {
   "codemirror_mode": {
    "name": "ipython",
    "version": 3
   },
   "file_extension": ".py",
   "mimetype": "text/x-python",
   "name": "python",
   "nbconvert_exporter": "python",
   "pygments_lexer": "ipython3",
   "version": "3.8.3"
  }
 },
 "nbformat": 4,
 "nbformat_minor": 4
}
