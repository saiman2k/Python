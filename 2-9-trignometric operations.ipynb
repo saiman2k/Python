{
 "cells": [
  {
   "cell_type": "code",
   "execution_count": 6,
   "metadata": {},
   "outputs": [
    {
     "name": "stdout",
     "output_type": "stream",
     "text": [
      "\n",
      "To print the trignometric values for the given angles\n",
      "sine: array of angles given in degrees\n",
      "[0.         0.5        0.70710678 0.8660254  1.        ]\n",
      "cosine: array of angles given in degrees\n",
      "[1.00000000e+00 8.66025404e-01 7.07106781e-01 5.00000000e-01\n",
      " 6.12323400e-17]\n",
      "tangent: array of angles given in degrees\n",
      "[0.00000000e+00 5.77350269e-01 1.00000000e+00 1.73205081e+00\n",
      " 1.63312394e+16]\n",
      "\n",
      "To print the inserve trignometric vales of the given elements:\n",
      "Inverse sine: [-1.57079633  0.          1.57079633]\n",
      "Inverse cosine: [3.14159265 1.57079633 0.        ]\n",
      "Inverse tangent: [-0.78539816  0.          0.78539816]\n",
      "\n",
      "To covert the radians to degrees:\n",
      "[-180.  -90.   90.  180.]\n",
      "\n",
      "To convert degrees to radians\n",
      "[-3.14159265 -1.57079633  1.57079633  3.14159265]\n",
      "\n",
      "To print hyperbolic values of the given elements\n",
      "[-1.17520119  0.          1.17520119]\n",
      "[1.54308063 1.         1.54308063]\n",
      "[-0.76159416  0.          0.76159416]\n"
     ]
    }
   ],
   "source": [
    "#computing sine,cosine,tangent \n",
    "print(\"\\nTo print the trignometric values for the given angles\")\n",
    "import numpy as np\n",
    "print(\"sine: array of angles given in degrees\")\n",
    "print(np.sin(np.array((0., 30., 45., 60., 90.)) * np.pi / 180.))\n",
    "print(\"cosine: array of angles given in degrees\")\n",
    "print(np.cos(np.array((0., 30., 45., 60., 90.)) * np.pi / 180.))\n",
    "print(\"tangent: array of angles given in degrees\")\n",
    "print(np.tan(np.array((0., 30., 45., 60., 90.)) * np.pi / 180.))\n",
    "#computing inverse sine,cosine,tangent\n",
    "print(\"\\nTo print the inserve trignometric vales of the given elements:\")\n",
    "import numpy as np\n",
    "x = np.array([-1., 0, 1.])\n",
    "print(\"Inverse sine:\", np.arcsin(x))\n",
    "print(\"Inverse cosine:\", np.arccos(x))\n",
    "print(\"Inverse tangent:\", np.arctan(x))\n",
    "#radians to degrees\n",
    "print(\"\\nTo covert the radians to degrees:\")\n",
    "import numpy as np\n",
    "x = np.array([-np.pi, -np.pi/2, np.pi/2, np.pi])\n",
    "r1 = np.degrees(x)\n",
    "r2 = np.rad2deg(x)\n",
    "assert np.array_equiv(r1, r2)\n",
    "print(r1)\n",
    "#degrees to radians\n",
    "print(\"\\nTo convert degrees to radians\")\n",
    "import numpy as np\n",
    "x = np.array([-180.,  -90.,   90.,  180.])\n",
    "r1 = np.radians(x)\n",
    "r2 = np.deg2rad(x)\n",
    "assert np.array_equiv(r1, r2)\n",
    "print(r1)\n",
    "#hyperbolic values\n",
    "print(\"\\nTo print hyperbolic values of the given elements\")\n",
    "import numpy as np\n",
    "x = np.array([-1., 0, 1.])\n",
    "print(np.sinh(x))\n",
    "print(np.cosh(x))\n",
    "print(np.tanh(x))"
   ]
  }
 ],
 "metadata": {
  "kernelspec": {
   "display_name": "Python 3",
   "language": "python",
   "name": "python3"
  },
  "language_info": {
   "codemirror_mode": {
    "name": "ipython",
    "version": 3
   },
   "file_extension": ".py",
   "mimetype": "text/x-python",
   "name": "python",
   "nbconvert_exporter": "python",
   "pygments_lexer": "ipython3",
   "version": "3.8.3"
  }
 },
 "nbformat": 4,
 "nbformat_minor": 4
}
