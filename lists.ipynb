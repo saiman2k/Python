{
 "cells": [
  {
   "cell_type": "code",
   "execution_count": 1,
   "metadata": {},
   "outputs": [
    {
     "name": "stdout",
     "output_type": "stream",
     "text": [
      "\n",
      "My details:\n",
      "\n",
      "Name: sainadh\n",
      "\n",
      "Id: 13\n",
      "\n",
      "Age: 20\n",
      "\n",
      "Department: IT\n",
      "['sainadh', 20, 'IT']\n",
      "[6013, 'sainadh', 20, 'IT']\n",
      "[6013, 'akula', 25, 'IT']\n",
      "sum is: 0\n",
      "2\n",
      "give  2 inputs:\n",
      "sainadh\n",
      "akula\n",
      "The created list is:\n",
      "sainadh\n",
      "akula\n",
      "['akula']\n"
     ]
    }
   ],
   "source": [
    "#LISTS\n",
    "l=[13,'sainadh',20,'IT']\n",
    "print('\\nMy details:')\n",
    "print('\\nName:',l[1])\n",
    "print('\\nId:',l[0])\n",
    "print('\\nAge:',l[2])\n",
    "print('\\nDepartment:',l[3])\n",
    "#index slicing\n",
    "print(l[1:4])\n",
    "#updating lists\n",
    "#single element\n",
    "l[0]=6013\n",
    "print(l)\n",
    "#multiple element\n",
    "l[1:3]=['akula',25]\n",
    "print(l)\n",
    "#iterating list\n",
    "s=0\n",
    "for i in l:\n",
    "    if type(i)=='int':\n",
    "        s=s+i\n",
    "print('sum is:',s)\n",
    "#Inserting elements in the list usinf for loop\n",
    "l1=[]\n",
    "n=int(input())\n",
    "print('give ',n, 'inputs:')\n",
    "for i in range(0,n):\n",
    "    l1.append(input())\n",
    "print('The created list is:')\n",
    "for i in range(0,n):\n",
    "    print(l1[i])\n",
    "#Removing a element\n",
    "l1.remove('sainadh')\n",
    "print(l1)\n"
   ]
  },
  {
   "cell_type": "code",
   "execution_count": null,
   "metadata": {},
   "outputs": [],
   "source": []
  }
 ],
 "metadata": {
  "kernelspec": {
   "display_name": "Python 3",
   "language": "python",
   "name": "python3"
  },
  "language_info": {
   "codemirror_mode": {
    "name": "ipython",
    "version": 3
   },
   "file_extension": ".py",
   "mimetype": "text/x-python",
   "name": "python",
   "nbconvert_exporter": "python",
   "pygments_lexer": "ipython3",
   "version": "3.8.3"
  }
 },
 "nbformat": 4,
 "nbformat_minor": 4
}
