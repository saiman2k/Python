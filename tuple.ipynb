{
 "cells": [
  {
   "cell_type": "code",
   "execution_count": 1,
   "metadata": {},
   "outputs": [
    {
     "name": "stdout",
     "output_type": "stream",
     "text": [
      "(1, 2, 3)\n",
      "tuple[0]= 1\n",
      "tuple[1]= 2\n",
      "tuple[2]= 3\n",
      "akulasainadh6013\n",
      "('a', 'k', 'u', 'l', 'a', 's', 'a', 'i', 'n', 'a', 'd', 'h', '6', '0', '1', '3')\n",
      "tuple[0]=a\n",
      "tuple[1]=k\n",
      "tuple[2]=u\n",
      "tuple[3]=l\n",
      "tuple[4]=a\n",
      "tuple[5]=s\n",
      "tuple[6]=a\n",
      "tuple[7]=i\n",
      "tuple[8]=n\n",
      "tuple[9]=a\n",
      "tuple[10]=d\n",
      "tuple[11]=h\n",
      "tuple[12]=6\n",
      "tuple[13]=0\n",
      "tuple[14]=1\n",
      "tuple[15]=3\n",
      "('u', 'l')\n"
     ]
    }
   ],
   "source": [
    "#Tuple\n",
    "t =(1,2,3)\n",
    "print(t)\n",
    "c=0\n",
    "for i in t:\n",
    "    print(\"tuple[%d]= %d\"%(c,i))\n",
    "    c=c+1\n",
    "#taking elements as input\n",
    "t1=tuple(input())\n",
    "print(t1)\n",
    "c=0\n",
    "for i in t1:\n",
    "    print(\"tuple[%d]=%s\"%(c,i))\n",
    "    c=c+1\n",
    "#tuple indexing\n",
    "print(t1[2:4])"
   ]
  },
  {
   "cell_type": "code",
   "execution_count": null,
   "metadata": {},
   "outputs": [],
   "source": []
  }
 ],
 "metadata": {
  "kernelspec": {
   "display_name": "Python 3",
   "language": "python",
   "name": "python3"
  },
  "language_info": {
   "codemirror_mode": {
    "name": "ipython",
    "version": 3
   },
   "file_extension": ".py",
   "mimetype": "text/x-python",
   "name": "python",
   "nbconvert_exporter": "python",
   "pygments_lexer": "ipython3",
   "version": "3.8.3"
  }
 },
 "nbformat": 4,
 "nbformat_minor": 4
}
