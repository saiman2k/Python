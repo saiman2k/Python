{
 "cells": [
  {
   "cell_type": "code",
   "execution_count": 4,
   "metadata": {},
   "outputs": [
    {
     "name": "stdout",
     "output_type": "stream",
     "text": [
      "\n",
      "To encode and decode the data of array of strings\n",
      "Original Array:\n",
      "['python exercises' 'PHP' 'java' 'C++']\n",
      "\n",
      "encoded = [b'\\x97\\xa8\\xa3\\x88\\x96\\x95@\\x85\\xa7\\x85\\x99\\x83\\x89\\xa2\\x85\\xa2'\n",
      " b'\\xd7\\xc8\\xd7' b'\\x91\\x81\\xa5\\x81' b'\\xc3NN']\n",
      "decoded = ['python exercises' 'PHP' 'java' 'C++']\n",
      "\n",
      "To remove the trailing whitespaces in the array of strings:\n",
      "Original Array:\n",
      "[' python exercises ' ' PHP  ' ' java  ' '  C++']\n",
      "\n",
      "Remove the trailing whitespaces :  [' python exercises' ' PHP' ' java' '  C++']\n",
      "\n",
      "Array1:\n",
      "['Hello' 'PHP' 'JS' 'examples' 'html']\n",
      "Array2:\n",
      "['Hello' 'php' 'Java' 'examples' 'html']\n",
      "\n",
      "Equal test:\n",
      "[ True False False  True  True]\n",
      "\n",
      "Not equal test:\n",
      "[False  True  True False False]\n",
      "\n",
      "Less equal test:\n",
      "[ True  True  True  True  True]\n",
      "\n",
      "Greater equal test:\n",
      "[ True False False  True  True]\n",
      "\n",
      "Less test:\n",
      "[False  True  True False False]\n"
     ]
    }
   ],
   "source": [
    "#encoding and decoding\n",
    "print(\"\\nTo encode and decode the data of array of strings\")\n",
    "import numpy as np\n",
    "x = np.array(['python exercises', 'PHP', 'java', 'C++'], dtype=np.str)\n",
    "print(\"Original Array:\")\n",
    "print(x)\n",
    "encoded_char = np.char.encode(x, 'cp500')\n",
    "decoded_char = np.char.decode(encoded_char,'cp500')\n",
    "print(\"\\nencoded =\", encoded_char)\n",
    "print(\"decoded =\", decoded_char)\n",
    "#removing trailing whitespaces\n",
    "print(\"\\nTo remove the trailing whitespaces in the array of strings:\")\n",
    "import numpy as np\n",
    "x = np.array([' python exercises ', ' PHP  ', ' java  ', '  C++'], dtype=np.str)\n",
    "print(\"Original Array:\")\n",
    "print(x)\n",
    "rstripped_char = np.char.rstrip(x)\n",
    "print(\"\\nRemove the trailing whitespaces : \", rstripped_char)\n",
    "#logical operators for array of strings\n",
    "import numpy as np\n",
    "x1 = np.array(['Hello', 'PHP', 'JS', 'examples', 'html'], dtype=np.str)\n",
    "x2 = np.array(['Hello', 'php', 'Java', 'examples', 'html'], dtype=np.str)\n",
    "print(\"\\nArray1:\")\n",
    "print(x1)\n",
    "print(\"Array2:\")\n",
    "print(x2)\n",
    "print(\"\\nEqual test:\")\n",
    "r = np.char.equal(x1, x2)\n",
    "print(r)\n",
    "print(\"\\nNot equal test:\")\n",
    "r = np.char.not_equal(x1, x2)\n",
    "print(r)\n",
    "print(\"\\nLess equal test:\")\n",
    "r = np.char.less_equal(x1, x2)\n",
    "print(r)\n",
    "print(\"\\nGreater equal test:\")\n",
    "r = np.char.greater_equal(x1, x2)\n",
    "print(r)\n",
    "print(\"\\nLess test:\")\n",
    "r = np.char.less(x1, x2)\n",
    "print(r)"
   ]
  }
 ],
 "metadata": {
  "kernelspec": {
   "display_name": "Python 3",
   "language": "python",
   "name": "python3"
  },
  "language_info": {
   "codemirror_mode": {
    "name": "ipython",
    "version": 3
   },
   "file_extension": ".py",
   "mimetype": "text/x-python",
   "name": "python",
   "nbconvert_exporter": "python",
   "pygments_lexer": "ipython3",
   "version": "3.8.3"
  }
 },
 "nbformat": 4,
 "nbformat_minor": 4
}
