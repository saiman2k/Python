{
 "cells": [
  {
   "cell_type": "code",
   "execution_count": 1,
   "metadata": {},
   "outputs": [
    {
     "name": "stdout",
     "output_type": "stream",
     "text": [
      "array('i', [0, 2, 3, 4, 5, 6])\n",
      "array('i', [0, 7, 8, 9, 4, 5, 6])\n",
      "array('i', [0, 7, 9, 4, 5, 6])\n",
      "array('i', [0, 7, 9, 4, 6])\n"
     ]
    }
   ],
   "source": [
    "#Changing and deleting of elements in the array\n",
    "import array as arr\n",
    "a=arr.array('i',[1,2,3,4,5,6])\n",
    "a[0]=0\n",
    "print(a)\n",
    "#using index slicing\n",
    "a[1:3]=arr.array('i',[7,8,9])\n",
    "print(a)\n",
    "#deleting an element\n",
    "del a[2]\n",
    "print(a)\n",
    "del a[4]\n",
    "print(a)"
   ]
  },
  {
   "cell_type": "code",
   "execution_count": null,
   "metadata": {},
   "outputs": [],
   "source": []
  }
 ],
 "metadata": {
  "kernelspec": {
   "display_name": "Python 3",
   "language": "python",
   "name": "python3"
  },
  "language_info": {
   "codemirror_mode": {
    "name": "ipython",
    "version": 3
   },
   "file_extension": ".py",
   "mimetype": "text/x-python",
   "name": "python",
   "nbconvert_exporter": "python",
   "pygments_lexer": "ipython3",
   "version": "3.8.3"
  }
 },
 "nbformat": 4,
 "nbformat_minor": 4
}
