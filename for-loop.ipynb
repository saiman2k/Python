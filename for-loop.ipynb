{
 "cells": [
  {
   "cell_type": "code",
   "execution_count": 1,
   "metadata": {},
   "outputs": [
    {
     "name": "stdout",
     "output_type": "stream",
     "text": [
      "the maximum value is 78\n",
      "\n",
      "The sum of the numbers is: 288\n",
      "1\n",
      "19\n",
      "32\n",
      "4\n",
      "78\n",
      "56\n",
      "20\n"
     ]
    }
   ],
   "source": [
    "#loops\n",
    "#for loop\n",
    "#to find the max value \n",
    "num = [1,19,32,4,78,56,20]\n",
    "m = 1\n",
    "for i in num:\n",
    "    if i>m:\n",
    "        m=i\n",
    "    continue\n",
    "\n",
    "print(\"the maximum value is\",m)\n",
    "#to find the sum of the numbers\n",
    "for i in num:\n",
    "    m=m+i\n",
    "print(\"\\nThe sum of the numbers is:\",m)\n",
    "#using range in for loop\n",
    "for i in range(len(num)):\n",
    "    print(num[i])"
   ]
  },
  {
   "cell_type": "code",
   "execution_count": null,
   "metadata": {},
   "outputs": [],
   "source": []
  }
 ],
 "metadata": {
  "kernelspec": {
   "display_name": "Python 3",
   "language": "python",
   "name": "python3"
  },
  "language_info": {
   "codemirror_mode": {
    "name": "ipython",
    "version": 3
   },
   "file_extension": ".py",
   "mimetype": "text/x-python",
   "name": "python",
   "nbconvert_exporter": "python",
   "pygments_lexer": "ipython3",
   "version": "3.8.3"
  }
 },
 "nbformat": 4,
 "nbformat_minor": 4
}
