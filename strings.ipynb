{
 "cells": [
  {
   "cell_type": "code",
   "execution_count": 1,
   "metadata": {},
   "outputs": [
    {
     "name": "stdout",
     "output_type": "stream",
     "text": [
      "<class 'str'>\n",
      "<class 'type'>\n",
      "this is first line\n",
      "second line\n",
      "third line\n",
      "fourth line and so on\n",
      " name is\n",
      "me is sainadh\n",
      "My nam\n",
      "negative\n",
      "is sainad\n",
      "My name is sainadhMy name is sainadh\n",
      "My name is sainadhMy name is sainadhMy name is sainadhMy name is sainadh\n"
     ]
    }
   ],
   "source": [
    "#STRINGS\n",
    "#single line\n",
    "str1 = 'My name is sainadh'\n",
    "print(str)\n",
    "print(type(str))\n",
    "#multiple line\n",
    "str2 = '''this is first line\n",
    "second line\n",
    "third line\n",
    "fourth line and so on'''  \n",
    " \n",
    "print(str2)\n",
    "#index slicing\n",
    "print(str1[2:10])\n",
    "print(str1[5:])\n",
    "print(str1[:6])\n",
    "#negative indexing\n",
    "print('negative')\n",
    "print(str1[-10:-1])\n",
    "#concatenation and replication\n",
    "print(str1+str1)\n",
    "print(str1*4)"
   ]
  },
  {
   "cell_type": "code",
   "execution_count": null,
   "metadata": {},
   "outputs": [],
   "source": []
  }
 ],
 "metadata": {
  "kernelspec": {
   "display_name": "Python 3",
   "language": "python",
   "name": "python3"
  },
  "language_info": {
   "codemirror_mode": {
    "name": "ipython",
    "version": 3
   },
   "file_extension": ".py",
   "mimetype": "text/x-python",
   "name": "python",
   "nbconvert_exporter": "python",
   "pygments_lexer": "ipython3",
   "version": "3.8.3"
  }
 },
 "nbformat": 4,
 "nbformat_minor": 4
}
