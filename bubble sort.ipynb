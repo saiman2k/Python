{
 "cells": [
  {
   "cell_type": "code",
   "execution_count": 1,
   "metadata": {},
   "outputs": [
    {
     "name": "stdout",
     "output_type": "stream",
     "text": [
      "Elements of original array: \n",
      "6 0 1 3 1 8 \n",
      "Elements of array sorted in ascending order: \n",
      "0 1 1 3 6 8 "
     ]
    }
   ],
   "source": [
    "arr = [6,0,1,3,1,8];     \n",
    "t = 0;  \n",
    "print(\"Elements of original array: \");    \n",
    "for i in range(0, len(arr)):    \n",
    "    print(arr[i], end=\" \");    \n",
    "for i in range(0, len(arr)):    \n",
    "    for j in range(i+1, len(arr)):    \n",
    "        if(arr[i] > arr[j]):    \n",
    "            t = arr[i];    \n",
    "            arr[i] = arr[j];    \n",
    "            arr[j] = t;    \n",
    "     \n",
    "print();\n",
    "print(\"Elements of array sorted in ascending order: \");    \n",
    "for i in range(0, len(arr)):    \n",
    "    print(arr[i], end=\" \"); "
   ]
  }
 ],
 "metadata": {
  "kernelspec": {
   "display_name": "Python 3",
   "language": "python",
   "name": "python3"
  },
  "language_info": {
   "codemirror_mode": {
    "name": "ipython",
    "version": 3
   },
   "file_extension": ".py",
   "mimetype": "text/x-python",
   "name": "python",
   "nbconvert_exporter": "python",
   "pygments_lexer": "ipython3",
   "version": "3.8.3"
  }
 },
 "nbformat": 4,
 "nbformat_minor": 4
}
