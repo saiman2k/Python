{
 "cells": [
  {
   "cell_type": "code",
   "execution_count": 3,
   "metadata": {},
   "outputs": [
    {
     "name": "stdout",
     "output_type": "stream",
     "text": [
      "\n",
      "To find the mean of the numericis in the dataset\n",
      "\n",
      "Quantity(kg)     3.8\n",
      "Cost            66.0\n",
      "dtype: float64\n",
      "\n",
      "To find the mode of the numericis in the dataset\n",
      "\n",
      "        Item  Quantity(kg)  Cost\n",
      "0     Chilli           2.5  40.0\n",
      "1       Daal           NaN  50.0\n",
      "2  Groundnut           NaN   NaN\n",
      "3        Oil           NaN   NaN\n",
      "4       Rice           NaN   NaN\n",
      "5     Tomato           NaN   NaN\n",
      "6    brinjal           NaN   NaN\n",
      "7    cabbage           NaN   NaN\n",
      "8       salt           NaN   NaN\n",
      "9      sugar           NaN   NaN\n",
      "\n",
      "To find the median of the numericis in the dataset\n",
      "\n",
      "Quantity(kg)     2.75\n",
      "Cost            50.00\n",
      "dtype: float64\n",
      "\n",
      "To find the covariance of the numericis in the dataset\n",
      "\n",
      "              Quantity(kg)         Cost\n",
      "Quantity(kg)      8.233333   -18.666667\n",
      "Cost            -18.666667  1687.777778\n"
     ]
    }
   ],
   "source": [
    "import pandas as pd\n",
    "df = pd.read_csv ('commodities2.csv',index_col=0)\n",
    "print(\"\\nTo find the mean of the numericis in the dataset\\n\")\n",
    "print(df.mean())\n",
    "print(\"\\nTo find the mode of the numericis in the dataset\\n\")\n",
    "print(df.mode())\n",
    "print(\"\\nTo find the median of the numericis in the dataset\\n\")\n",
    "print(df.median())\n",
    "print(\"\\nTo find the covariance of the numericis in the dataset\\n\")\n",
    "print(df.cov())"
   ]
  }
 ],
 "metadata": {
  "kernelspec": {
   "display_name": "Python 3",
   "language": "python",
   "name": "python3"
  },
  "language_info": {
   "codemirror_mode": {
    "name": "ipython",
    "version": 3
   },
   "file_extension": ".py",
   "mimetype": "text/x-python",
   "name": "python",
   "nbconvert_exporter": "python",
   "pygments_lexer": "ipython3",
   "version": "3.8.3"
  }
 },
 "nbformat": 4,
 "nbformat_minor": 4
}
