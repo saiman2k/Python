{
 "cells": [
  {
   "cell_type": "code",
   "execution_count": 1,
   "metadata": {},
   "outputs": [
    {
     "name": "stdout",
     "output_type": "stream",
     "text": [
      "Original array is:\n",
      "[[ 0 10 20 30 40]\n",
      " [50 60 70 80 90]]\n",
      "Transpose of the original array is:\n",
      "[[ 0 50]\n",
      " [10 60]\n",
      " [20 70]\n",
      " [30 80]\n",
      " [40 90]]\n",
      "Modified array is:\n",
      "0\n",
      "10\n",
      "20\n",
      "30\n",
      "40\n",
      "50\n",
      "60\n",
      "70\n",
      "80\n",
      "90\n"
     ]
    }
   ],
   "source": [
    "#numpy iterating over an array:\n",
    "import numpy as np\n",
    "a=np.arange(0,100,10)\n",
    "a=a.reshape(2,5)\n",
    "print('Original array is:')\n",
    "print(a)\n",
    "print('Transpose of the original array is:')\n",
    "b=a.T\n",
    "print(b)\n",
    "print('Modified array is:')\n",
    "for x in np.nditer(b):\n",
    "    print(x,)"
   ]
  },
  {
   "cell_type": "code",
   "execution_count": null,
   "metadata": {},
   "outputs": [],
   "source": []
  }
 ],
 "metadata": {
  "kernelspec": {
   "display_name": "Python 3",
   "language": "python",
   "name": "python3"
  },
  "language_info": {
   "codemirror_mode": {
    "name": "ipython",
    "version": 3
   },
   "file_extension": ".py",
   "mimetype": "text/x-python",
   "name": "python",
   "nbconvert_exporter": "python",
   "pygments_lexer": "ipython3",
   "version": "3.8.3"
  }
 },
 "nbformat": 4,
 "nbformat_minor": 4
}
