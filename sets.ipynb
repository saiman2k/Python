{
 "cells": [
  {
   "cell_type": "code",
   "execution_count": 1,
   "metadata": {},
   "outputs": [
    {
     "name": "stdout",
     "output_type": "stream",
     "text": [
      "<class 'set'>\n",
      "{'aprl', 'feb', 'march', 'jan'}\n",
      "aprl\n",
      "feb\n",
      "march\n",
      "jan\n",
      "{'feb', 'aprl', 'may', 'jan', 'march'}\n",
      "{'feb', 'aprl', 'may', 'jan', 'june', 'july', 'march'}\n",
      "{'aprl', 'may', 'june', 'july', 'march'}\n",
      "Union:\n",
      "{1, 2, 3, 4, 5, 6, 7, 8, 9}\n",
      "Intersection:\n",
      "{4, 5, 6}\n",
      "difference between m1 and m2:\n",
      "{1, 2, 3}\n"
     ]
    }
   ],
   "source": [
    "#SETS\n",
    "m={\"jan\",\"feb\",\"march\",\"aprl\"}\n",
    "print(type(m))\n",
    "print(m)\n",
    "#printing using loops\n",
    "for i in m:\n",
    "    print(i)\n",
    "#using add method\n",
    "m.add(\"may\")\n",
    "print(m)\n",
    "#using update function\n",
    "m.update([\"june\",\"july\"])\n",
    "print(m)\n",
    "#using remove and discard\n",
    "m.discard(\"jan\")\n",
    "m.remove(\"feb\")\n",
    "print(m)\n",
    "m1={1,2,3,4,5,6}\n",
    "m2={4,5,6,7,8,9}\n",
    "#Union,Intersection and Difference\n",
    "print(\"Union:\")\n",
    "print(m1|m2)\n",
    "print('Intersection:')\n",
    "print(m1&m2)\n",
    "print('difference between m1 and m2:')\n",
    "print(m1-m2)"
   ]
  },
  {
   "cell_type": "code",
   "execution_count": null,
   "metadata": {},
   "outputs": [],
   "source": []
  }
 ],
 "metadata": {
  "kernelspec": {
   "display_name": "Python 3",
   "language": "python",
   "name": "python3"
  },
  "language_info": {
   "codemirror_mode": {
    "name": "ipython",
    "version": 3
   },
   "file_extension": ".py",
   "mimetype": "text/x-python",
   "name": "python",
   "nbconvert_exporter": "python",
   "pygments_lexer": "ipython3",
   "version": "3.8.3"
  }
 },
 "nbformat": 4,
 "nbformat_minor": 4
}
