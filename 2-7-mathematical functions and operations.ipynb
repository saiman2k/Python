{
 "cells": [
  {
   "cell_type": "code",
   "execution_count": 4,
   "metadata": {},
   "outputs": [
    {
     "name": "stdout",
     "output_type": "stream",
     "text": [
      "Add:\n",
      "11073\n",
      "Subtract:\n",
      "953\n",
      "Multiply:\n",
      "30425780\n",
      "Divide:\n",
      "1.1883399209486165\n",
      "\n",
      "Exponentiation:\n",
      "Logarithm of the sum of exponentiations:\n",
      "-113.87649168120691\n",
      "Logarithm of the sum of exponentiations of the inputs in base-2:\n",
      "-113.59955522772194\n",
      "\n",
      "absolute function\n",
      "Original array:\n",
      "[-10.2 122.2   0.2]\n",
      "Element-wise absolute value:\n",
      "[ 10.2 122.2   0.2]\n",
      "\n",
      "flooring,ceiling,truncation\n",
      "Original array:\n",
      "[ -60.13  -60.71  -61.03   60.96   60.1  6002.   6082.  ]\n",
      "Floor values of the above array elements:\n",
      "[ -61.  -61.  -62.   60.   60. 6002. 6082.]\n",
      "Ceil values of the above array elements:\n",
      "[ -60.  -60.  -61.   61.   61. 6002. 6082.]\n",
      "Truncated values of the above array elements:\n",
      "[ -60.  -60.  -61.   60.   60. 6002. 6082.]\n"
     ]
    }
   ],
   "source": [
    "#mathematical operations using numpy\n",
    "import numpy as np\n",
    "print(\"Add:\")\n",
    "print(np.add(6013, 5060))\n",
    "print(\"Subtract:\")\n",
    "print(np.subtract(6013, 5060))\n",
    "print(\"Multiply:\")\n",
    "print(np.multiply(6013, 5060))\n",
    "print(\"Divide:\")\n",
    "print(np.divide(6013, 5060))\n",
    "#exponentiation\n",
    "print(\"\\nExponentiation:\")\n",
    "import numpy as np\n",
    "l1 = np.log(1e-50)\n",
    "l2 = np.log(2.5e-50)\n",
    "print(\"Logarithm of the sum of exponentiations:\")\n",
    "print(np.logaddexp(l1, l2))\n",
    "print(\"Logarithm of the sum of exponentiations of the inputs in base-2:\")\n",
    "print(np.logaddexp2(l1, l2))\n",
    "#abs() function\n",
    "print(\"\\nabsolute function\")\n",
    "import numpy as np\n",
    "x = np.array([-10.2, 122.2, .20])\n",
    "print(\"Original array:\")\n",
    "print(x)\n",
    "print(\"Element-wise absolute value:\")\n",
    "print(np.absolute(x))\n",
    "#flooring,ceiling,truncation\n",
    "print(\"\\nflooring,ceiling,truncation\")\n",
    "import numpy as np\n",
    "x = np.array([-60.13, -60.71, -61.03, 60.96, 60.10, 6002, 6082])\n",
    "print(\"Original array:\")\n",
    "print(x)\n",
    "print(\"Floor values of the above array elements:\")\n",
    "print(np.floor(x))\n",
    "print(\"Ceil values of the above array elements:\")\n",
    "print(np.ceil(x))\n",
    "print(\"Truncated values of the above array elements:\")\n",
    "print(np.trunc(x))"
   ]
  }
 ],
 "metadata": {
  "kernelspec": {
   "display_name": "Python 3",
   "language": "python",
   "name": "python3"
  },
  "language_info": {
   "codemirror_mode": {
    "name": "ipython",
    "version": 3
   },
   "file_extension": ".py",
   "mimetype": "text/x-python",
   "name": "python",
   "nbconvert_exporter": "python",
   "pygments_lexer": "ipython3",
   "version": "3.8.3"
  }
 },
 "nbformat": 4,
 "nbformat_minor": 4
}
