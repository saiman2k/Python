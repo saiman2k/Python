{
 "cells": [
  {
   "cell_type": "code",
   "execution_count": 4,
   "metadata": {},
   "outputs": [
    {
     "name": "stdout",
     "output_type": "stream",
     "text": [
      "Original numbers:\n",
      "[6013 6071 6103]\n",
      "[6002 6010 6096]\n",
      "Comparison - greater(>)\n",
      "[ True  True  True]\n",
      "Comparison - greater_equal(>=)\n",
      "[ True  True  True]\n",
      "Comparison - less(<)\n",
      "[False False False]\n",
      "Comparison - less_equal(<=)\n",
      "[False False False]\n",
      "\n",
      "Finding the size ocuupied by the elements:\n",
      "\n",
      "Size of the memory occupied by the first(x) array:\n",
      "12 bytes\n",
      "Size of the memory occupied by the second(y) array:\n",
      "12 bytes\n"
     ]
    }
   ],
   "source": [
    "#comparing 2 similar arrays using operators\n",
    "import numpy as np\n",
    "x = np.array([6013, 6071, 6103])\n",
    "y = np.array([6002, 6010, 6096])\n",
    "print(\"Original numbers:\")\n",
    "print(x)\n",
    "print(y)\n",
    "print(\"Comparison - greater(>)\")\n",
    "print(np.greater(x, y))\n",
    "print(\"Comparison - greater_equal(>=)\")\n",
    "print(np.greater_equal(x, y))\n",
    "print(\"Comparison - less(<)\")\n",
    "print(np.less(x, y))\n",
    "print(\"Comparison - less_equal(<=)\")\n",
    "print(np.less_equal(x, y))\n",
    "#size determination i.e the space occupied by the elements\n",
    "print(\"\\nFinding the size ocuupied by the elements:\\n\")\n",
    "print(\"Size of the memory occupied by the first(x) array:\")\n",
    "print(\"%d bytes\" % (x.size * x.itemsize))\n",
    "print(\"Size of the memory occupied by the second(y) array:\")\n",
    "print(\"%d bytes\" % (y.size * y.itemsize))"
   ]
  }
 ],
 "metadata": {
  "kernelspec": {
   "display_name": "Python 3",
   "language": "python",
   "name": "python3"
  },
  "language_info": {
   "codemirror_mode": {
    "name": "ipython",
    "version": 3
   },
   "file_extension": ".py",
   "mimetype": "text/x-python",
   "name": "python",
   "nbconvert_exporter": "python",
   "pygments_lexer": "ipython3",
   "version": "3.8.3"
  }
 },
 "nbformat": 4,
 "nbformat_minor": 4
}
