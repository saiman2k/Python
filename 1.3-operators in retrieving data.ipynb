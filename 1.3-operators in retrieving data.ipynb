{
 "cells": [
  {
   "cell_type": "code",
   "execution_count": 6,
   "metadata": {},
   "outputs": [
    {
     "name": "stdout",
     "output_type": "stream",
     "text": [
      "\n",
      "== operator\n",
      "       Item  Quantity(kg)  Cost\n",
      "s.no                           \n",
      "1      Rice             1    50\n",
      "10    sugar             1    50\n",
      "\n",
      "< operator\n",
      "           Item  Quantity(kg)  Cost\n",
      "s.no                               \n",
      "1          Rice             1    50\n",
      "2        Tomato             1    35\n",
      "3          Daal             1    80\n",
      "5           Oil             1   120\n",
      "6     Groundnut             1   150\n",
      "7        Chilli             1    75\n",
      "8       brinjal             1    40\n",
      "9       cabbage             1    40\n",
      "10        sugar             1    50\n",
      "         Item  Quantity(kg)  Cost\n",
      "s.no                             \n",
      "1        Rice             1    50\n",
      "2      Tomato             1    35\n",
      "4        salt             1    20\n",
      "8     brinjal             1    40\n",
      "9     cabbage             1    40\n",
      "10      sugar             1    50\n",
      "\n",
      "!= operator\n",
      "           Item  Quantity(kg)  Cost\n",
      "s.no                               \n",
      "1          Rice             1    50\n",
      "2        Tomato             1    35\n",
      "4          salt             1    20\n",
      "5           Oil             1   120\n",
      "6     Groundnut             1   150\n",
      "7        Chilli             1    75\n",
      "8       brinjal             1    40\n",
      "9       cabbage             1    40\n",
      "10        sugar             1    50\n",
      "\n",
      "Multiple Conditions\n",
      "         Item  Quantity(kg)  Cost\n",
      "s.no                             \n",
      "8     brinjal             1    40\n"
     ]
    }
   ],
   "source": [
    "import pandas as pd\n",
    "df = pd.read_csv ('commodities1.csv',index_col=0)\n",
    "#using equals operator\n",
    "print(\"\\n== operator\")\n",
    "print(df.loc[df['Cost'] == 50])\n",
    "#using greater-than operator\n",
    "print(\"\\n< operator\")\n",
    "print(df.loc[df['Cost'] > 30])\n",
    "#using less-than operator\n",
    "print(df.loc[df['Cost'] < 60])\n",
    "#using not-equal-to operator\n",
    "print(\"\\n!= operator\")\n",
    "print(df.loc[df['Item'] != 'Daal'])\n",
    "#multiple operator to retrieve a particular data\n",
    "print(\"\\nMultiple Conditions\")\n",
    "print(df.loc[(df['Item'] != 'Rice') & (df['Item'] == 'brinjal')])"
   ]
  }
 ],
 "metadata": {
  "kernelspec": {
   "display_name": "Python 3",
   "language": "python",
   "name": "python3"
  },
  "language_info": {
   "codemirror_mode": {
    "name": "ipython",
    "version": 3
   },
   "file_extension": ".py",
   "mimetype": "text/x-python",
   "name": "python",
   "nbconvert_exporter": "python",
   "pygments_lexer": "ipython3",
   "version": "3.8.3"
  }
 },
 "nbformat": 4,
 "nbformat_minor": 4
}
