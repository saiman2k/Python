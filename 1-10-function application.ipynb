{
 "cells": [
  {
   "cell_type": "code",
   "execution_count": 6,
   "metadata": {},
   "outputs": [
    {
     "name": "stdout",
     "output_type": "stream",
     "text": [
      "col1   -0.028277\n",
      "col2   -0.206179\n",
      "col3    0.598103\n",
      "dtype: float64\n",
      "\n",
      "Element wise function application\n",
      "col1    0.111893\n",
      "col2   -1.040612\n",
      "col3    0.652080\n",
      "dtype: float64\n",
      "\n",
      "Table wise function application\n",
      "col1    0.064613\n",
      "col2   -0.261197\n",
      "col3   -0.257891\n",
      "dtype: float64\n",
      "\n",
      "row or column wise function application\n",
      "col1   -0.668559\n",
      "col2   -0.528993\n",
      "col3    0.198355\n",
      "dtype: float64\n"
     ]
    }
   ],
   "source": [
    "#axis prameter\n",
    "import pandas as pd\n",
    "import numpy as np\n",
    "df = pd.DataFrame(np.random.randn(5,3),columns=['col1','col2','col3'])\n",
    "df.apply(np.mean,axis=1)\n",
    "print (df.apply(np.mean))\n",
    "print(\"\\nElement wise function application\")\n",
    "#element-wise\n",
    "import pandas as pd\n",
    "import numpy as np\n",
    "df = pd.DataFrame(np.random.randn(5,3),columns=['col1','col2','col3'])\n",
    "# My custom function\n",
    "df['col1'].map(lambda x:x*100)\n",
    "print(df.apply(np.mean))\n",
    "#Table-wise Function Application\n",
    "print(\"\\nTable wise function application\")\n",
    "import pandas as pd\n",
    "import numpy as np\n",
    "def adder(ele1,ele2):\n",
    "   return ele1+ele2\n",
    "df = pd.DataFrame(np.random.randn(5,3),columns=['col1','col2','col3'])\n",
    "df.pipe(adder,2)\n",
    "print (df.apply(np.mean))\n",
    "#Row or Column Wise Function Application\n",
    "print(\"\\nrow or column wise function application\")\n",
    "import pandas as pd\n",
    "import numpy as np\n",
    "df = pd.DataFrame(np.random.randn(5,3),columns=['col1','col2','col3'])\n",
    "df.apply(np.mean,axis=1)\n",
    "print (df.apply(np.mean))"
   ]
  }
 ],
 "metadata": {
  "kernelspec": {
   "display_name": "Python 3",
   "language": "python",
   "name": "python3"
  },
  "language_info": {
   "codemirror_mode": {
    "name": "ipython",
    "version": 3
   },
   "file_extension": ".py",
   "mimetype": "text/x-python",
   "name": "python",
   "nbconvert_exporter": "python",
   "pygments_lexer": "ipython3",
   "version": "3.8.3"
  }
 },
 "nbformat": 4,
 "nbformat_minor": 4
}
