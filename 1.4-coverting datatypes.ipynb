{
 "cells": [
  {
   "cell_type": "code",
   "execution_count": 11,
   "metadata": {},
   "outputs": [
    {
     "name": "stdout",
     "output_type": "stream",
     "text": [
      "           Item  Quantity(kg)  Cost\n",
      "s.no                               \n",
      "1          Rice          10.5    50\n",
      "2        Tomato           2.5    35\n",
      "3          Daal           3.5    80\n",
      "4          salt           2.0    20\n",
      "5           Oil           5.0   120\n",
      "6     Groundnut           1.0   150\n",
      "7        Chilli           1.5    75\n",
      "8       brinjal           3.0    40\n",
      "9       cabbage           2.5    40\n",
      "10        sugar           6.5    50\n",
      "before changing the datatype\n",
      "Item             object\n",
      "Quantity(kg)    float64\n",
      "Cost              int64\n",
      "dtype: object\n",
      "After changing the int64 to string\n",
      "Item             object\n",
      "Quantity(kg)    float64\n",
      "Cost             object\n",
      "dtype: object\n",
      "\n",
      "\n",
      "float64 to int32\n",
      "Item            object\n",
      "Quantity(kg)     int32\n",
      "Cost            object\n",
      "dtype: object\n"
     ]
    }
   ],
   "source": [
    "#retireving data from csv file\n",
    "import pandas as pd\n",
    "df = pd.read_csv ('commodities2.csv',index_col=0)\n",
    "print(df)\n",
    "#changing int64 to string\n",
    "print(\"before changing the datatype\")\n",
    "print(df.dtypes)\n",
    "df['Cost'] = df['Cost'].astype(str)\n",
    "print(\"After changing the int64 to string\")\n",
    "print(df.dtypes)\n",
    "print(\"\\n\")\n",
    "#coverting float64 to int32\n",
    "print(\"float64 to int32\")\n",
    "df['Quantity(kg)'] = df['Quantity(kg)'].astype(int)\n",
    "print(df.dtypes)\n"
   ]
  }
 ],
 "metadata": {
  "kernelspec": {
   "display_name": "Python 3",
   "language": "python",
   "name": "python3"
  },
  "language_info": {
   "codemirror_mode": {
    "name": "ipython",
    "version": 3
   },
   "file_extension": ".py",
   "mimetype": "text/x-python",
   "name": "python",
   "nbconvert_exporter": "python",
   "pygments_lexer": "ipython3",
   "version": "3.8.3"
  }
 },
 "nbformat": 4,
 "nbformat_minor": 4
}
