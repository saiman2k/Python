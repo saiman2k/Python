{
 "cells": [
  {
   "cell_type": "code",
   "execution_count": 2,
   "metadata": {},
   "outputs": [
    {
     "name": "stdout",
     "output_type": "stream",
     "text": [
      "\n",
      "Enter your choice:\n",
      "2\n",
      "2\n",
      "\n",
      "ENter the edge of the square:\n",
      "5\n",
      "Area: 25\n"
     ]
    }
   ],
   "source": [
    "print('\\nEnter your choice:')\n",
    "x = int(input())\n",
    "print(x)\n",
    "if x == 1:\n",
    "    print(\"\\nENter the length and breadth:\")\n",
    "    a=int(input())\n",
    "    b=int(input())\n",
    "    print(\"Area:\",a*b)\n",
    "elif x==2:\n",
    "    print(\"\\nENter the edge of the square:\")\n",
    "    a=int(input())\n",
    "    print(\"Area:\",a*a)\n",
    "else :\n",
    "    print(\"\\nEnter the base and height of triangle:\")\n",
    "    b=float(input())\n",
    "    h=float(input())\n",
    "    print(\"Area:\",((b*h)/2))"
   ]
  },
  {
   "cell_type": "code",
   "execution_count": null,
   "metadata": {},
   "outputs": [],
   "source": []
  },
  {
   "cell_type": "code",
   "execution_count": null,
   "metadata": {},
   "outputs": [],
   "source": []
  }
 ],
 "metadata": {
  "kernelspec": {
   "display_name": "Python 3",
   "language": "python",
   "name": "python3"
  },
  "language_info": {
   "codemirror_mode": {
    "name": "ipython",
    "version": 3
   },
   "file_extension": ".py",
   "mimetype": "text/x-python",
   "name": "python",
   "nbconvert_exporter": "python",
   "pygments_lexer": "ipython3",
   "version": "3.8.3"
  }
 },
 "nbformat": 4,
 "nbformat_minor": 4
}
