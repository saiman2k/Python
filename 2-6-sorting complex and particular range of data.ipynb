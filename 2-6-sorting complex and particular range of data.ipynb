{
 "cells": [
  {
   "cell_type": "code",
   "execution_count": 3,
   "metadata": {},
   "outputs": [
    {
     "name": "stdout",
     "output_type": "stream",
     "text": [
      "Original array:\n",
      "[(1+2j), (3-1j), (3-2j), (4-3j), (3+5j)]\n",
      "\n",
      "Sorted a given complex array using the real part first, then the imaginary part.\n",
      "[1.+2.j 3.-2.j 3.-1.j 3.+5.j 4.-3.j]\n",
      "\n",
      "Sorting only the top 5 elements of the array:\n",
      "Original array:\n",
      "[0.98681761 0.91257183 0.43872967 0.92303735 0.95623231 0.11579515\n",
      " 0.06667905 0.95508336 0.43185128 0.1196634 ]\n",
      "\n",
      "Sorted first 5 elements:\n",
      "[0.06667905 0.11579515 0.1196634  0.43185128 0.43872967 0.91257183\n",
      " 0.98681761 0.95508336 0.92303735 0.95623231]\n"
     ]
    }
   ],
   "source": [
    "#sorting the complex numbers\n",
    "import numpy as np\n",
    "complex_num = [1 + 2j, 3 - 1j, 3 - 2j, 4 - 3j, 3 + 5j]\n",
    "print(\"Original array:\")\n",
    "print(complex_num)\n",
    "print(\"\\nSorted a given complex array using the real part first, then the imaginary part.\")\n",
    "print(np.sort_complex(complex_num))\n",
    "#sorting particular no of elements from the top of the array\n",
    "print(\"\\nSorting only the top 5 elements of the array:\")\n",
    "import numpy as np\n",
    "nums =  np.random.rand(10)\n",
    "print(\"Original array:\")\n",
    "print(nums)\n",
    "print(\"\\nSorted first 5 elements:\")\n",
    "print(nums[np.argpartition(nums,range(5))])"
   ]
  }
 ],
 "metadata": {
  "kernelspec": {
   "display_name": "Python 3",
   "language": "python",
   "name": "python3"
  },
  "language_info": {
   "codemirror_mode": {
    "name": "ipython",
    "version": 3
   },
   "file_extension": ".py",
   "mimetype": "text/x-python",
   "name": "python",
   "nbconvert_exporter": "python",
   "pygments_lexer": "ipython3",
   "version": "3.8.3"
  }
 },
 "nbformat": 4,
 "nbformat_minor": 4
}
