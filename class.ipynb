{
 "cells": [
  {
   "cell_type": "code",
   "execution_count": 1,
   "metadata": {},
   "outputs": [
    {
     "name": "stdout",
     "output_type": "stream",
     "text": [
      "Enter the length and breadth of the rectangle:\n",
      "4\n",
      "5\n",
      "Area: 20\n"
     ]
    }
   ],
   "source": [
    "#classes\n",
    "class area:\n",
    "    def ar(self):\n",
    "        print('Enter the length and breadth of the rectangle:')\n",
    "        l=int(input())\n",
    "        b=int(input())\n",
    "        print('Area:',l*b)\n",
    "a=area()\n",
    "a.ar()\n"
   ]
  },
  {
   "cell_type": "code",
   "execution_count": null,
   "metadata": {},
   "outputs": [],
   "source": []
  }
 ],
 "metadata": {
  "kernelspec": {
   "display_name": "Python 3",
   "language": "python",
   "name": "python3"
  },
  "language_info": {
   "codemirror_mode": {
    "name": "ipython",
    "version": 3
   },
   "file_extension": ".py",
   "mimetype": "text/x-python",
   "name": "python",
   "nbconvert_exporter": "python",
   "pygments_lexer": "ipython3",
   "version": "3.8.3"
  }
 },
 "nbformat": 4,
 "nbformat_minor": 4
}
