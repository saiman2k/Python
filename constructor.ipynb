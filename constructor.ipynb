{
 "cells": [
  {
   "cell_type": "code",
   "execution_count": 1,
   "metadata": {},
   "outputs": [
    {
     "name": "stdout",
     "output_type": "stream",
     "text": [
      "The given weigth is: 95\n",
      "the given heigth is: 171\n",
      "BMI: 2.2839506172839505\n"
     ]
    }
   ],
   "source": [
    "#creating a class with a constructor\n",
    "class bmi:\n",
    "    def __init__(self,w,h):\n",
    "        self.w=w\n",
    "        self.h=h\n",
    "    def disp(self):\n",
    "        print('The given weigth is:',self.w)\n",
    "        print('the given heigth is:',self.h)\n",
    "        c=((self.w*703)/(self.h*self.h))\n",
    "        print('BMI:',c)\n",
    "a=bmi(95,171)\n",
    "a.disp()"
   ]
  },
  {
   "cell_type": "code",
   "execution_count": null,
   "metadata": {},
   "outputs": [],
   "source": []
  }
 ],
 "metadata": {
  "kernelspec": {
   "display_name": "Python 3",
   "language": "python",
   "name": "python3"
  },
  "language_info": {
   "codemirror_mode": {
    "name": "ipython",
    "version": 3
   },
   "file_extension": ".py",
   "mimetype": "text/x-python",
   "name": "python",
   "nbconvert_exporter": "python",
   "pygments_lexer": "ipython3",
   "version": "3.8.3"
  }
 },
 "nbformat": 4,
 "nbformat_minor": 4
}
