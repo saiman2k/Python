{
 "cells": [
  {
   "cell_type": "code",
   "execution_count": 5,
   "metadata": {},
   "outputs": [
    {
     "name": "stdout",
     "output_type": "stream",
     "text": [
      "Original array:\n",
      "[10 25 36 48]\n",
      "Test if any elements is zero:\n",
      "True\n",
      "Original array:\n",
      "[  0 100 200 300]\n",
      "Test if any elements is zero:\n",
      "False\n",
      "\n",
      "To check the +ve,-ve, infinity elements:\n",
      "Original array\n",
      "[ 6.  0.  1.  3. inf]\n",
      "Test element-wise for infinity:(if +ve or -ve the output is False)\n",
      "[False False False False  True]\n",
      "\n",
      "To check if nan elements are present in array:\n",
      "Original array\n",
      "[ 1.  0. nan inf]\n",
      "Test element-wise for NaN:(if int,infinity elements then output is false)\n",
      "[False False  True False]\n",
      "\n",
      "To check if the real,complex and scalar elements are there in data:\n",
      "Original array\n",
      "[6.000000e+01  +13.j 5.000000e+01  +60.j 6.013000e+03   +0.j\n",
      " 6.071103e+03   +0.j 2.000000e+00   +0.j 0.000000e+00+6103.j]\n",
      "Checking for complex number:\n",
      "[ True  True False False False  True]\n",
      "Checking for real number:\n",
      "[False False  True  True  True False]\n",
      "Checking for scalar type:\n",
      "True\n",
      "False\n"
     ]
    }
   ],
   "source": [
    "#various check methods for the elements in an array\n",
    "# to check whether zero is present or not\n",
    "import numpy as np\n",
    "x = np.array([10, 25, 36, 48])\n",
    "print(\"Original array:\")\n",
    "print(x)\n",
    "print(\"Test if any elements is zero:\")\n",
    "print(np.all(x))\n",
    "x = np.array([0, 100, 200, 300])\n",
    "print(\"Original array:\")\n",
    "print(x)\n",
    "print(\"Test if any elements is zero:\")\n",
    "print(np.all(x))\n",
    "#for checking the element if it is infinity\n",
    "print(\"\\nTo check the +ve,-ve, infinity elements:\")\n",
    "import numpy as np\n",
    "a = np.array([6, 0, 1, 3, np.inf])\n",
    "print(\"Original array\")\n",
    "print(a)\n",
    "print(\"Test element-wise for infinity:(if +ve or -ve the output is False)\")\n",
    "print(np.isinf(a))\n",
    "#for checking the nan-elements in the array\n",
    "print(\"\\nTo check if nan elements are present in array:\")\n",
    "import numpy as np\n",
    "a = np.array([1, 0, np.nan, np.inf])\n",
    "print(\"Original array\")\n",
    "print(a)\n",
    "print(\"Test element-wise for NaN:(if int,infinity elements then output is false)\")\n",
    "print(np.isnan(a))\n",
    "#check for real,complex and scalar data\n",
    "print(\"\\nTo check if the real,complex and scalar elements are there in data:\")\n",
    "import numpy as np\n",
    "a = np.array([60+13j, 50+60j, 6013, 6071.103, 2, 6103j])\n",
    "print(\"Original array\")\n",
    "print(a)\n",
    "print(\"Checking for complex number:\")\n",
    "print(np.iscomplex(a))\n",
    "print(\"Checking for real number:\")\n",
    "print(np.isreal(a))\n",
    "print(\"Checking for scalar type:\")\n",
    "print(np.isscalar(3.1))\n",
    "print(np.isscalar([3.1]))"
   ]
  }
 ],
 "metadata": {
  "kernelspec": {
   "display_name": "Python 3",
   "language": "python",
   "name": "python3"
  },
  "language_info": {
   "codemirror_mode": {
    "name": "ipython",
    "version": 3
   },
   "file_extension": ".py",
   "mimetype": "text/x-python",
   "name": "python",
   "nbconvert_exporter": "python",
   "pygments_lexer": "ipython3",
   "version": "3.8.3"
  }
 },
 "nbformat": 4,
 "nbformat_minor": 4
}
