{
 "cells": [
  {
   "cell_type": "code",
   "execution_count": 12,
   "metadata": {},
   "outputs": [
    {
     "name": "stdout",
     "output_type": "stream",
     "text": [
      "original matrix:\n",
      "[[1, 2], [3, 4]]\n",
      "[[8, 7], [6, 5]]\n",
      "Result of the matrix multiplication:\n",
      "[[20 17]\n",
      " [48 41]]\n",
      "\n",
      "Determinant of a square matrix:\n",
      "Original 2-d array\n",
      "[[1 2]\n",
      " [3 4]]\n",
      "Determinant of the said 2-D array:\n",
      "-2.0000000000000004\n",
      "\n",
      "Einstein's Summation over an array:-\n",
      "Original 1-d arrays:\n",
      "[1 2 3]\n",
      "[4 5 6]\n",
      "Einstein’s summation convention of the said arrays:\n",
      "32\n",
      "Original Higher dimension:\n",
      "[[0 1 2]\n",
      " [3 4 5]\n",
      " [6 7 8]]\n",
      "[[ 3  4  5]\n",
      " [ 6  7  8]\n",
      " [ 9 10 11]]\n",
      "Einstein’s summation convention of the said arrays:\n",
      "[[ 24  27  30]\n",
      " [ 78  90 102]\n",
      " [132 153 174]]\n"
     ]
    }
   ],
   "source": [
    "#multiplication of 2 square matrix\n",
    "import numpy as np\n",
    "p = [[1, 2], [3, 4]]\n",
    "q = [[8, 7], [6, 5]]\n",
    "print(\"original matrix:\")\n",
    "print(p)\n",
    "print(q)\n",
    "result1 = np.dot(p, q)\n",
    "print(\"Result of the matrix multiplication:\")\n",
    "print(result1)\n",
    "#determinant of a square matrix\n",
    "print(\"\\nDeterminant of a square matrix:\")\n",
    "import numpy as np\n",
    "from numpy import linalg as LA\n",
    "a = np.array([[1, 2], [3, 4]])\n",
    "print(\"Original 2-d array\")\n",
    "print(a)\n",
    "print(\"Determinant of the said 2-D array:\")\n",
    "print(np.linalg.det(a))\n",
    "#Einstein summation\n",
    "print(\"\\nEinstein's Summation over an array:-\")\n",
    "import numpy as np\n",
    "a = np.array([1,2,3])\n",
    "b = np.array([4,5,6])\n",
    "print(\"Original 1-d arrays:\")\n",
    "print(a)\n",
    "print(b)\n",
    "result =  np.einsum(\"n,n\", a, b)\n",
    "print(\"Einstein’s summation convention of the said arrays:\")\n",
    "print(result)\n",
    "x = np.arange(9).reshape(3, 3)\n",
    "y = np.arange(3, 12).reshape(3, 3)\n",
    "print(\"Original Higher dimension:\")\n",
    "print(x)\n",
    "print(y)\n",
    "result = np.einsum(\"mk,kn\", x, y)\n",
    "print(\"Einstein’s summation convention of the said arrays:\")\n",
    "print(result)"
   ]
  }
 ],
 "metadata": {
  "kernelspec": {
   "display_name": "Python 3",
   "language": "python",
   "name": "python3"
  },
  "language_info": {
   "codemirror_mode": {
    "name": "ipython",
    "version": 3
   },
   "file_extension": ".py",
   "mimetype": "text/x-python",
   "name": "python",
   "nbconvert_exporter": "python",
   "pygments_lexer": "ipython3",
   "version": "3.8.3"
  }
 },
 "nbformat": 4,
 "nbformat_minor": 4
}
