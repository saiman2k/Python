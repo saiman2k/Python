{
 "cells": [
  {
   "cell_type": "code",
   "execution_count": 13,
   "metadata": {},
   "outputs": [
    {
     "name": "stdout",
     "output_type": "stream",
     "text": [
      "           Item  Quantity(kg)  Cost\n",
      "s.no                               \n",
      "1          Rice          10.5    50\n",
      "2        Tomato           2.5    35\n",
      "3          Daal           3.5    80\n",
      "4          salt           2.0    20\n",
      "5           Oil           5.0   120\n",
      "6     Groundnut           1.0   150\n",
      "7        Chilli           1.5    75\n",
      "8       brinjal           3.0    40\n",
      "9       cabbage           2.5    40\n",
      "10        sugar           6.5    50\n",
      "\n",
      "Filter rows which contain specific keyword\n",
      "\n",
      "---- Filter with State contains Daal ----\n",
      "\n",
      "     Item  Quantity(kg)  Cost\n",
      "s.no                         \n",
      "5     Oil           5.0   120\n",
      "based on the string in the index data retireval\n",
      "\n",
      "---- Filter Index contains al ----\n",
      "\n",
      "         Item  Quantity(kg)  Cost\n",
      "s.no                             \n",
      "3        Daal           3.5    80\n",
      "4        salt           2.0    20\n",
      "8     brinjal           3.0    40\n",
      "\n",
      "---- Filter DataFrame using & ----\n",
      "\n",
      "         Item  Quantity(kg)  Cost\n",
      "s.no                             \n",
      "3        Daal           3.5    80\n",
      "4        salt           2.0    20\n",
      "8     brinjal           3.0    40\n"
     ]
    }
   ],
   "source": [
    "#retireving data from csv file\n",
    "import pandas as pd\n",
    "df = pd.read_csv ('commodities2.csv',index_col=0)\n",
    "print(df)\n",
    "print(\"\\nFilter rows which contain specific keyword\")\n",
    "print(\"\\n---- Filter with State contains Daal ----\\n\")\n",
    "df1 = df[df['Item'].str.contains(\"Oil\")]\n",
    "print(df1)\n",
    "#Filtering DataFrame Index\n",
    "print(\"based on the string in the index data retireval\")\n",
    "print(\"\\n---- Filter Index contains al ----\\n\")\n",
    "df.Item = df.Item.astype('str')\n",
    "df2 = df[df.Item.str.contains('al')]\n",
    "print(df2)\n",
    "#Filtering using AND operator\n",
    "print(\"\\n---- Filter DataFrame using & ----\\n\")\n",
    "df.Item = df.Item.astype('str')\n",
    "df1 = df[df.Item.str.contains('al') & df.Item.str.contains('a')]\n",
    "print(df1)"
   ]
  }
 ],
 "metadata": {
  "kernelspec": {
   "display_name": "Python 3",
   "language": "python",
   "name": "python3"
  },
  "language_info": {
   "codemirror_mode": {
    "name": "ipython",
    "version": 3
   },
   "file_extension": ".py",
   "mimetype": "text/x-python",
   "name": "python",
   "nbconvert_exporter": "python",
   "pygments_lexer": "ipython3",
   "version": "3.8.3"
  }
 },
 "nbformat": 4,
 "nbformat_minor": 4
}
