{
 "cells": [
  {
   "cell_type": "code",
   "execution_count": 5,
   "metadata": {},
   "outputs": [
    {
     "name": "stdout",
     "output_type": "stream",
     "text": [
      "\n",
      "roots of the \n",
      "x2-2x+1\n",
      "x4-12x3+10x2+7x=10\n",
      "x2-5x+6\n",
      "Roots of the first polynomial:\n",
      "[1. 1.]\n",
      "Roots of the second polynomial:\n",
      "[11.04461946+0.j        -0.8711421 +0.j         0.91326132+0.4531004j\n",
      "  0.91326132-0.4531004j]\n",
      "Roots of the third polynomial:\n",
      "[3. 2.]\n",
      "\n",
      "to find the polynomial computed value:\n",
      "Polynomial value when x = 2:\n",
      "1\n",
      "Polynomial value when x = 3:\n",
      "-142\n",
      "\n",
      "polynomial add,sub,mult,div\n",
      "Add one polynomial to another:\n",
      "[40. 60. 80.]\n",
      "Subtract one polynomial from another:\n",
      "[-20. -20. -20.]\n",
      "Multiply one polynomial by another:\n",
      "[ 300. 1000. 2200. 2200. 1500.]\n",
      "Divide one polynomial by another:\n",
      "(array([0.6]), array([-8., -4.]))\n"
     ]
    }
   ],
   "source": [
    "#finding the roots of the polynomial\n",
    "print(\"\\nroots of the \\nx2-2x+1\\nx4-12x3+10x2+7x=10\\nx2-5x+6\")\n",
    "import numpy as np\n",
    "print(\"Roots of the first polynomial:\")\n",
    "print(np.roots([1, -2, 1]))\n",
    "print(\"Roots of the second polynomial:\")\n",
    "print(np.roots([1, -12, 10, 7, -10]))\n",
    "print(\"Roots of the third polynomial:\")\n",
    "print(np.roots([1,-5,6]))\n",
    "#computing the values of the polynomial\n",
    "print(\"\\nto find the polynomial computed value:\")\n",
    "import numpy as np\n",
    "print(\"Polynomial value when x = 2:\")\n",
    "print(np.polyval([1, -2, 1], 2))\n",
    "print(\"Polynomial value when x = 3:\")\n",
    "print(np.polyval([1, -12, 10, 7, -10], 3))\n",
    "#polynomial operations\n",
    "print(\"\\npolynomial add,sub,mult,div\")\n",
    "from numpy.polynomial import polynomial as P\n",
    "x = (10,20,30)\n",
    "y = (30,40,50)\n",
    "print(\"Add one polynomial to another:\")\n",
    "print(P.polyadd(x,y))\n",
    "print(\"Subtract one polynomial from another:\")\n",
    "print(P.polysub(x,y))\n",
    "print(\"Multiply one polynomial by another:\")\n",
    "print(P.polymul(x,y))\n",
    "print(\"Divide one polynomial by another:\")\n",
    "print(P.polydiv(x,y))"
   ]
  }
 ],
 "metadata": {
  "kernelspec": {
   "display_name": "Python 3",
   "language": "python",
   "name": "python3"
  },
  "language_info": {
   "codemirror_mode": {
    "name": "ipython",
    "version": 3
   },
   "file_extension": ".py",
   "mimetype": "text/x-python",
   "name": "python",
   "nbconvert_exporter": "python",
   "pygments_lexer": "ipython3",
   "version": "3.8.3"
  }
 },
 "nbformat": 4,
 "nbformat_minor": 4
}
