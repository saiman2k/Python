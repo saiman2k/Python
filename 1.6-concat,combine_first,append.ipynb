{
 "cells": [
  {
   "cell_type": "code",
   "execution_count": 2,
   "metadata": {},
   "outputs": [
    {
     "name": "stdout",
     "output_type": "stream",
     "text": [
      "\n",
      "------------ concat ----------------\n",
      "\n",
      "        A     B       C       D\n",
      "0  6031.0  6071     0.0     0.0\n",
      "1     0.0  6103  6096.0  6010.0\n",
      "\n",
      "------------ append ----------------\n",
      "\n",
      "        A     B       C       D\n",
      "0  6031.0  6071     0.0     0.0\n",
      "1     0.0  6103  6096.0  6010.0\n",
      "\n",
      "------------ combine_first ----------------\n",
      "\n",
      "        A       B       C       D\n",
      "0  6031.0  6071.0     0.0     0.0\n",
      "1     0.0  6103.0  6096.0  6010.0\n"
     ]
    }
   ],
   "source": [
    "import pandas as pd\n",
    "a = {'A': 6031, 'B': 6071}\n",
    "b = {'B': 6103, 'C': 6096, 'D': 6010}\n",
    "df1 = pd.DataFrame(a, index=[0])\n",
    "df2 = pd.DataFrame(b, index=[1])\n",
    "d1 = pd.DataFrame()\n",
    "d2 = pd.concat([df1, df2]).fillna(0)\n",
    "print(\"\\n------------ concat ----------------\\n\")\n",
    "print(d2)\n",
    "d1 = d1.append(df1)\n",
    "d1 = d1.append(df2).fillna(0)\n",
    "print(\"\\n------------ append ----------------\\n\")\n",
    "print(d1)\n",
    "d3 = pd.DataFrame()\n",
    "d3 = d3.combine_first(df1).combine_first(df2).fillna(0)\n",
    "print(\"\\n------------ combine_first ----------------\\n\")\n",
    "print(d3)"
   ]
  }
 ],
 "metadata": {
  "kernelspec": {
   "display_name": "Python 3",
   "language": "python",
   "name": "python3"
  },
  "language_info": {
   "codemirror_mode": {
    "name": "ipython",
    "version": 3
   },
   "file_extension": ".py",
   "mimetype": "text/x-python",
   "name": "python",
   "nbconvert_exporter": "python",
   "pygments_lexer": "ipython3",
   "version": "3.8.3"
  }
 },
 "nbformat": 4,
 "nbformat_minor": 4
}
