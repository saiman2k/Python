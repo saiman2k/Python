{
 "cells": [
  {
   "cell_type": "code",
   "execution_count": 1,
   "metadata": {},
   "outputs": [
    {
     "name": "stdout",
     "output_type": "stream",
     "text": [
      "Enter a number:\n",
      "5\n",
      "Continue-Section\n",
      "13\n",
      "78\n",
      "63\n",
      "25\n",
      "87\n",
      "94\n",
      "Pass-Section\n",
      "13\n",
      "78\n",
      "45\n",
      "63\n",
      "25\n",
      "This is pass\n",
      "87\n",
      "94\n"
     ]
    }
   ],
   "source": [
    "#break and continue and pass\n",
    "l=[13,78,45,63,25,87,94]\n",
    "print('Enter a number:')\n",
    "b=int(input())\n",
    "c=1\n",
    "for i in l:\n",
    "    if i==b:\n",
    "        print('matched')\n",
    "        c=c+1\n",
    "        break\n",
    "print('Continue-Section')\n",
    "for i in l:\n",
    "    if i==45:\n",
    "        continue\n",
    "    print(i)\n",
    "print('Pass-Section')\n",
    "for i in l:\n",
    "    if i== 87:\n",
    "        print('This is pass')\n",
    "    print(i)"
   ]
  },
  {
   "cell_type": "code",
   "execution_count": null,
   "metadata": {},
   "outputs": [],
   "source": []
  }
 ],
 "metadata": {
  "kernelspec": {
   "display_name": "Python 3",
   "language": "python",
   "name": "python3"
  },
  "language_info": {
   "codemirror_mode": {
    "name": "ipython",
    "version": 3
   },
   "file_extension": ".py",
   "mimetype": "text/x-python",
   "name": "python",
   "nbconvert_exporter": "python",
   "pygments_lexer": "ipython3",
   "version": "3.8.3"
  }
 },
 "nbformat": 4,
 "nbformat_minor": 4
}
