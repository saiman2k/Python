{
 "cells": [
  {
   "cell_type": "code",
   "execution_count": 1,
   "metadata": {},
   "outputs": [
    {
     "name": "stdout",
     "output_type": "stream",
     "text": [
      "{'Name': 'sainadh', 'Age': '20', 'Id': '13'}\n",
      "{1: 'Akula', 2: 'SAinadh', 3: '13'}\n",
      "first_Name: sainadh\n",
      "Age: 20\n",
      "Id: 13\n",
      "{'Name': 'sainadh', 'Age': '20', 'Id': '13', 1: '25'}\n",
      "{'Name': 'sainadh', 'Age': '20', 'Id': '13'}\n",
      "Name\n",
      "sainadh\n",
      "Age\n",
      "20\n",
      "Id\n",
      "13\n"
     ]
    }
   ],
   "source": [
    "#dictionaries\n",
    "d={\"Name\":\"sainadh\",\"Age\":\"20\",\"Id\":\"13\"}\n",
    "#creating with dict() keyword\n",
    "d1=dict({1:\"Akula\",2:\"SAinadh\",3:\"13\"})\n",
    "print(d)\n",
    "print(d1)\n",
    "#accessing the values of the dictionary\n",
    "print(\"first_Name: %s\"% d[\"Name\"])\n",
    "print(\"Age: %s\"% d[\"Age\"])\n",
    "print(\"Id: %s\"% d[\"Id\"])\n",
    "#adding elements to the dictionary\n",
    "d[1]=\"25\"\n",
    "print(d)\n",
    "#deleting elements\n",
    "del d[1]\n",
    "print(d)\n",
    "for i in d:\n",
    "    print(i)\n",
    "    print(d[i])"
   ]
  },
  {
   "cell_type": "code",
   "execution_count": null,
   "metadata": {},
   "outputs": [],
   "source": []
  }
 ],
 "metadata": {
  "kernelspec": {
   "display_name": "Python 3",
   "language": "python",
   "name": "python3"
  },
  "language_info": {
   "codemirror_mode": {
    "name": "ipython",
    "version": 3
   },
   "file_extension": ".py",
   "mimetype": "text/x-python",
   "name": "python",
   "nbconvert_exporter": "python",
   "pygments_lexer": "ipython3",
   "version": "3.8.3"
  }
 },
 "nbformat": 4,
 "nbformat_minor": 4
}
